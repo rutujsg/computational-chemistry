{
 "cells": [
  {
   "cell_type": "markdown",
   "metadata": {},
   "source": [
    "# The Code:"
   ]
  },
  {
   "cell_type": "code",
   "execution_count": 1,
   "metadata": {
    "scrolled": false
   },
   "outputs": [
    {
     "data": {
      "application/javascript": [
       "require.undef(\"nbextensions/vpython_libraries/glow.min\");"
      ],
      "text/plain": [
       "<IPython.core.display.Javascript object>"
      ]
     },
     "metadata": {},
     "output_type": "display_data"
    },
    {
     "data": {
      "application/javascript": [
       "require.undef(\"nbextensions/vpython_libraries/glowcomm\");"
      ],
      "text/plain": [
       "<IPython.core.display.Javascript object>"
      ]
     },
     "metadata": {},
     "output_type": "display_data"
    },
    {
     "data": {
      "application/javascript": [
       "require.undef(\"nbextensions/vpython_libraries/jquery-ui.custom.min\");"
      ],
      "text/plain": [
       "<IPython.core.display.Javascript object>"
      ]
     },
     "metadata": {},
     "output_type": "display_data"
    },
    {
     "data": {
      "application/javascript": [
       "require([\"nbextensions/vpython_libraries/glow.min\"], function(){console.log(\"GLOW LOADED\");})"
      ],
      "text/plain": [
       "<IPython.core.display.Javascript object>"
      ]
     },
     "metadata": {},
     "output_type": "display_data"
    },
    {
     "data": {
      "application/javascript": [
       "require([\"nbextensions/vpython_libraries/glowcomm\"], function(){console.log(\"GLOWCOMM LOADED\");})"
      ],
      "text/plain": [
       "<IPython.core.display.Javascript object>"
      ]
     },
     "metadata": {},
     "output_type": "display_data"
    },
    {
     "data": {
      "application/javascript": [
       "require([\"nbextensions/vpython_libraries/jquery-ui.custom.min\"], function(){console.log(\"JQUERY LOADED\");})"
      ],
      "text/plain": [
       "<IPython.core.display.Javascript object>"
      ]
     },
     "metadata": {},
     "output_type": "display_data"
    },
    {
     "data": {
      "text/html": [
       "<div id=\"glowscript\" class=\"glowscript\"></div>"
      ],
      "text/plain": [
       "<IPython.core.display.HTML object>"
      ]
     },
     "metadata": {},
     "output_type": "display_data"
    },
    {
     "data": {
      "application/javascript": [
       "window.__context = { glowscript_container: $(\"#glowscript\").removeAttr(\"id\")}"
      ],
      "text/plain": [
       "<IPython.core.display.Javascript object>"
      ]
     },
     "metadata": {},
     "output_type": "display_data"
    },
    {
     "name": "stdout",
     "output_type": "stream",
     "text": [
      "Enter the name of the file\n",
      "nh3\n"
     ]
    }
   ],
   "source": [
    "from vpython import *\n",
    "from scipy.spatial import distance\n",
    "import numpy as np\n",
    "from numpy.linalg import norm\n",
    "from decimal import Decimal as D  # for decimal calculations instead of floating point. Reduces rounding errors, increases precision\n",
    "\n",
    "\n",
    "def getFileName(fileName):\n",
    "    fileName = \"../computationalChemistry/XYZ/{}.xyz\".format(fileName) #changes the directory to the default xyz directory.\n",
    "    return fileName\n",
    "#^^^^^Extract to the same directory. Or change this code^^^^^   \n",
    "\n",
    "def getXYZ(name):\n",
    "    fileName = getFileName(name)\n",
    "    file = open(fileName, \"r\") #open file as read only\n",
    "    currentLine = file.readlines() # scan through all lines\n",
    "    placeholder = [] #blank array\n",
    "    for line in currentLine:\n",
    "        placeholder.append(line.split()) #store all the strings in multidimensional arrays. Each line is an array\n",
    "    xyz = placeholder\n",
    "    file.close()\n",
    "    return xyz #return the array\n",
    "\n",
    "def getNumberOfAtoms(fileName):\n",
    "    xyz = getXYZ(fileName) \n",
    "    numberOfAtoms = int(xyz[0][0])  #first line of the xyz file has just the number of atoms.\n",
    "    return numberOfAtoms\n",
    "\n",
    "def getMoleculeName(fileName):\n",
    "    xyz = getXYZ(fileName)\n",
    "    moleculeName = ''.join(xyz[1]) #second line of the xyz file is the name of the molecule. \n",
    "    moleculeName = str(moleculeName)\n",
    "    moleculeName = moleculeName.title()  #convert to uppercase\n",
    "    return moleculeName\n",
    "\n",
    "def getCoordinates(fileName):\n",
    "    xyz = getXYZ(fileName)\n",
    "    numberOfAtoms = getNumberOfAtoms(fileName)\n",
    "    n = numberOfAtoms + 2 # so that the loop starts from 2nd line and ends at the last one\n",
    "    coordinates = [] #empty array\n",
    "    for i in range (2,n): # for i in lines 3 and n \n",
    "        [x,y,z] = (float(xyz[i][1]),float(xyz[i][2]), float(xyz[i][3]))  #credits: https://cs.iupui.edu/~aharris/230/python/data/csvDemo.py\n",
    "        coordinates.append([x,y,z]) # store the stuff in the array\n",
    "    return (coordinates)\n",
    "\n",
    "        \n",
    "def readCVS(): #reads the CVS file \n",
    "    fileName = \"../computationalChemistry/PeriodicTable.cvs\" #path to CVS File\n",
    "    file = open(fileName, \"r\") #Open as read only\n",
    "    currentLine = file.readlines()\n",
    "    placeholder = [] #blank array\n",
    "    for line in currentLine:\n",
    "        placeholder.append(line.split(\",\")) #store all the strings in multidimensional arrays. Each line is an array\n",
    "    periodicTable = np.array(placeholder)\n",
    "    file.close()\n",
    "    return periodicTable #return the array\n",
    "\n",
    "def getCovalentRadius(fileName): #gets the covalent radius from the CVS file\n",
    "    xyz = getXYZ(fileName) #get xyz array\n",
    "    periodicTable = readCVS() #get the periodic table CVS file\n",
    "    n = len(xyz)\n",
    "    i = 2\n",
    "    j = 1\n",
    "    radius = []\n",
    "    while i < n:\n",
    "        if xyz[i][0] == periodicTable[j][1]: #go through the periodic table CVS file and get radius\n",
    "            r = (float(periodicTable[j][8])/100) #convert from picometer to angstrom\n",
    "            i = i + 1 #incement the xyz counter\n",
    "            j = 1 #reset the periodicTable counter\n",
    "            radius.append(r)\n",
    "        else:\n",
    "            j = j + 1 #else, increment the other counter\n",
    "    return (radius)\n",
    "\n",
    "def showCovalentRadius(fileName):\n",
    "    radius = getCovalentRadius(fileName)\n",
    "    xyz = getXYZ(fileName)\n",
    "    print (\"Atomic Radii:\\n\")\n",
    "    for i in range(len(radius)):\n",
    "        print (\"{}: {} Å\".format(xyz[i+2][0], radius[i]))\n",
    "    print (\"\")\n",
    "\n",
    "def getAtomicColour(fileName):  #generates a colour set of unique colour depending on the atomic mass\n",
    "    xyz = getXYZ(fileName)\n",
    "    i = 2\n",
    "    j = 1\n",
    "    periodicTable = readCVS() #get the periodic table CVS file\n",
    "    colour = [] #array of tuples. Each tuple is the RGB code for a color\n",
    "    while i < len(xyz):\n",
    "        if xyz [i][0] == periodicTable[j][1]:\n",
    "            atomicNumber = int(periodicTable[j][2])\n",
    "            i = i + 1 #incement the xyz counter\n",
    "            j = 1 #reset the periodicTable counter\n",
    "            if atomicNumber < 10:\n",
    "                R = atomicNumber/10  #Red Channel\n",
    "                G = atomicNumber/25  #Green Channel\n",
    "                B = atomicNumber/70  #Blue Channel\n",
    "                clr = [R, G, B] # an array of RGB\n",
    "                colour.append(clr)\n",
    "            else:\n",
    "                R = atomicNumber/100  #Red Channel\n",
    "                G = atomicNumber/250  #Green Channel\n",
    "                B = atomicNumber/700  #Blue Channel\n",
    "                clr = [R, G, B] # an array of RGB\n",
    "                colour.append(clr)  #an array of arrrays\n",
    "        else:\n",
    "            j = j + 1 #else, increment the other counter\n",
    "    return colour\n",
    "\n",
    "def getMolecularMass(fileName):\n",
    "    xyz = getXYZ(fileName)\n",
    "    periodicTable = readCVS()\n",
    "    i = 2\n",
    "    j = 1\n",
    "    n = len(xyz)\n",
    "    totalMass = 0\n",
    "    while i < n:\n",
    "        if xyz[i][0] == periodicTable[j][1]:\n",
    "            mass = float(periodicTable[j][3])\n",
    "            totalMass = totalMass + mass\n",
    "            i = i + 1\n",
    "            j = 1\n",
    "        else:\n",
    "            j = j + 1\n",
    "    return (totalMass)\n",
    "\n",
    "def showMolecularMass(fileName):\n",
    "    mass = getMolecularMass(fileName)\n",
    "    moleculeName = getMoleculeName(fileName)\n",
    "    print (\"\\nMolecular Mass of {}:\\n\".format(moleculeName))\n",
    "    print (\"{:.4f} u.\".format(mass))\n",
    "    print (\"{:.4E} kg.\\n\".format(mass * 1.66054 * 10**-27))\n",
    "\n",
    "def get3DGraph(fileName):\n",
    "    xyz = getXYZ(fileName) \n",
    "    radius = getCovalentRadius(fileName)\n",
    "    n = getNumberOfAtoms(fileName)\n",
    "    coordinates = getCoordinates(fileName)\n",
    "    colour = getAtomicColour(fileName)\n",
    "    scene.background = color.white # background colour = white\n",
    "    scene.autocenter = 0\n",
    "    for i in range(n):\n",
    "        x = coordinates[i][0]  # x coordinate\n",
    "        y = coordinates[i][1]  # y coordinate\n",
    "        z = coordinates[i][2]  # z coordinate\n",
    "        r = radius[i] * 1.2\n",
    "        \n",
    "        R = colour[i][0] #red channel\n",
    "        G = colour[i][1] #green channel\n",
    "        B = colour[i][2] #blue channel\n",
    "        \n",
    "        sphere (pos = vector(x,y,z), radius = r, color = vector(R,G,B)) #generate a sphere with coordinates (x,y,z) and r = r\n",
    "        label (pos = vector(x + 0.05,y + 0.05, z + 0.05), text = xyz[i + 2][0], opacity = 0.24) #creates a label with the atoms name\n",
    "\n",
    "def getBonds(fileName):\n",
    "    xyz = getXYZ(fileName)  \n",
    "    coordinates = getCoordinates(fileName)\n",
    "    n = len (coordinates)\n",
    "    radius = getCovalentRadius(fileName)\n",
    "    i = 0\n",
    "    j = 1\n",
    "    bonds = []\n",
    "    #compare ith element with jth element where, j < n\n",
    "    while i < n:\n",
    "        while j < n: \n",
    "            length = D(distance.euclidean(coordinates[i], coordinates[j])) # distance between ith element and jth elelemnt \n",
    "            if length <= D(1.2 * (radius[i] + radius[j])):  # Atoms A n B are bonded if the bondlength is less than the covalent threshold\n",
    "                bonds.append([length, i, j - i  ]) # new array of the length, the first element, the second element (j was reletive to i)\n",
    "            j = j + 1\n",
    "        i = i + 1 # go to the next element\n",
    "        j = i + 1  # go to i + 1 th element\n",
    "    return (bonds)\n",
    "\n",
    "def showBondLengths(fileName):\n",
    "    bonds = getBonds(fileName)\n",
    "    xyz = getXYZ(fileName)\n",
    "    n = len(bonds)\n",
    "    print (\"Bonded Atoms: \\n\")\n",
    "    for k in range (n):\n",
    "        i = bonds[k][1]\n",
    "        j = bonds[k][2]\n",
    "        length = bonds[k][0]\n",
    "        print (\"{}-{} : {:.2f} Å\".format(xyz[i +2][0], xyz[j+2][0], length))\n",
    "    print (\"\\n\")\n",
    "\n",
    "def getVectors(fileName):\n",
    "    xyz = getXYZ(fileName)\n",
    "    coordinates = np.array(getCoordinates(fileName)) # converts to a numpy array\n",
    "    n = len (coordinates)\n",
    "    radius = getCovalentRadius(fileName)\n",
    "    i = 0\n",
    "    j = 1\n",
    "    angles = []\n",
    "    #compare ith element with jth element where, j < n\n",
    "    while i < n:\n",
    "        while j < n: \n",
    "            length = D(distance.euclidean(coordinates[i], coordinates[j])) # distance between ith element and jth elelemnt \n",
    "            if length <= D(1.2 * (radius[i] + radius[j])):  # Atoms A n B are bonded if the bondlength is less than the covalent threshold\n",
    "                vector = coordinates[i] - coordinates[j] # creates position vectors\n",
    "                angles.append([vector, i, j - i]) # new array of the length, the first element, the second element (j was reletive to i)\n",
    "            j = j + 1\n",
    "        i = i + 1 # go to the next element\n",
    "        j = i + 1  # go to i + 1 th element\n",
    "        return (angles)\n",
    "    \n",
    "def showBondAngles(fileName):\n",
    "    vectors = getVectors(fileName)\n",
    "    xyz = getXYZ(fileName)\n",
    "    n = len(vectors)\n",
    "    temp = vectors[0]   # temp var\n",
    "    vectors.append(temp)  # adds the 0th element as the nth element. \n",
    "    #print (\"Bond Angles: \\n\")\n",
    "    for i in range (n):\n",
    "        v1 = vectors [i][0] \n",
    "        v2 = vectors [i + 1][0]\n",
    "        cosTheta = (dot(v1,v2))/(norm(v1)* norm(v2))   # a.b = |a||b|cos(θ)\n",
    "        theta = np.arccos(np.clip(cosTheta, -1 , 1)) # clip function to correct rounding errors. restricts to the range [-1,1]\n",
    "        theta = theta * (180/np.pi )  # pi rad = 180 deg. x rad = 180/pi deg\n",
    "        print (\"{}-{}-{} : {:.2f}°\".format(xyz[vectors[i][2] + 2][0], xyz[vectors[i][1] + 2][0], xyz[vectors[i + 1][2] + 2][0], theta))\n",
    "\n",
    "def showOutput(fileName):\n",
    "    showMolecularMass(fileName)\n",
    "    showCovalentRadius(fileName)\n",
    "    showBondLengths(fileName)\n",
    "    showBondAngles(fileName)\n",
    "\n",
    "def saveFile(fileName):\n",
    "    response = input(\"Do you want to export the data as a txt file? Y/N\")\n",
    "    response = response.upper()\n",
    "    keepGoing = True\n",
    "    while keepGoing:\n",
    "        if response == \"Y\":\n",
    "            name = input(\"Enter the name of the file\")\n",
    "            name = \"../computationalChemistry/Output/{}.txt\".format(name)\n",
    "            file = open(name, \"w\")\n",
    "            file.write(txt)\n",
    "            file.close()\n",
    "            keepGoing = False\n",
    "        elif response == \"N\":\n",
    "            print (\"Okay\")\n",
    "            keepGoing = False\n",
    "        else:\n",
    "            print (\"Not a valid response.\")\n",
    "\n",
    "name = input(\"Enter the name of the file\\n\")\n",
    "#get3DGraph(name)\n",
    "#showOutput(name)\n",
    "#saveFile(name)\n"
   ]
  },
  {
   "cell_type": "markdown",
   "metadata": {
    "collapsed": true
   },
   "source": [
    "# The Plot:"
   ]
  },
  {
   "cell_type": "code",
   "execution_count": 2,
   "metadata": {
    "collapsed": true
   },
   "outputs": [],
   "source": [
    "get3DGraph(name)"
   ]
  },
  {
   "cell_type": "markdown",
   "metadata": {},
   "source": [
    "# The Output:"
   ]
  },
  {
   "cell_type": "code",
   "execution_count": 3,
   "metadata": {},
   "outputs": [
    {
     "name": "stdout",
     "output_type": "stream",
     "text": [
      "\n",
      "Molecular Mass of Ammonia:\n",
      "\n",
      "17.0306 u.\n",
      "2.8280E-26 kg.\n",
      "\n",
      "Atomic Radii:\n",
      "\n",
      "N: 0.75 Å\n",
      "H: 0.37 Å\n",
      "H: 0.37 Å\n",
      "H: 0.37 Å\n",
      "\n",
      "Bonded Atoms: \n",
      "\n",
      "N-H : 1.02 Å\n",
      "N-H : 1.02 Å\n",
      "N-H : 1.02 Å\n",
      "\n",
      "\n",
      "H-N-H : 106.00°\n",
      "H-N-H : 106.00°\n",
      "H-N-H : 106.00°\n"
     ]
    }
   ],
   "source": [
    "showOutput(name)"
   ]
  },
  {
   "cell_type": "markdown",
   "metadata": {},
   "source": [
    "# Save File?"
   ]
  },
  {
   "cell_type": "code",
   "execution_count": 13,
   "metadata": {},
   "outputs": [
    {
     "name": "stdout",
     "output_type": "stream",
     "text": [
      "Do you want to export the data as a txt file? Y/Nn\n",
      "Okay\n"
     ]
    }
   ],
   "source": [
    "saveFile(name)"
   ]
  },
  {
   "cell_type": "code",
   "execution_count": null,
   "metadata": {
    "collapsed": true
   },
   "outputs": [],
   "source": []
  }
 ],
 "metadata": {
  "kernelspec": {
   "display_name": "VPython",
   "language": "python",
   "name": "vpython"
  },
  "language_info": {
   "codemirror_mode": {
    "name": "ipython",
    "version": 3
   },
   "file_extension": ".py",
   "mimetype": "text/x-python",
   "name": "python",
   "nbconvert_exporter": "python",
   "pygments_lexer": "ipython3",
   "version": "3.6.3"
  }
 },
 "nbformat": 4,
 "nbformat_minor": 2
}
